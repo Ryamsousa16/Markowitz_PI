{
 "cells": [
  {
   "cell_type": "code",
   "execution_count": 1,
   "id": "147be4ce",
   "metadata": {},
   "outputs": [],
   "source": [
    "import pandas as pd\n",
    "import numpy as np\n",
    "import yfinance as yf"
   ]
  },
  {
   "cell_type": "code",
   "execution_count": 2,
   "id": "c51f80ec",
   "metadata": {},
   "outputs": [
    {
     "name": "stdout",
     "output_type": "stream",
     "text": [
      "[*********************100%%**********************]  3 of 3 completed\n"
     ]
    }
   ],
   "source": [
    "ibovespa_tickers=['PETR3.SA','PETR4.SA','VALE3.SA']\n",
    "inicio= '2021-01-01'\n",
    "fim= '2022-01-01'\n",
    "\n",
    "data = yf.download(ibovespa_tickers, start=inicio, end=fim )['Adj Close']"
   ]
  },
  {
   "cell_type": "markdown",
   "id": "07f6cb45",
   "metadata": {},
   "source": [
    "Na linha a seguir efetua-se o cálculo da covariância entre os ativos conforme a fórmula abaixo:\n",
    "\n",
    "$$ Cov(X, Y) = \\frac{\\sum_{i=1}^n (X_i - \\bar{X})(Y_i - \\bar{Y})}{n}$$\n",
    "\n",
    "* np.log(data) = cálcula o logarítimo dos preços de cada ativo,\n",
    "* .diff()= calcula os retornos logarítimos diários de cada ativo\n",
    "* .std(ddof= 0)= cálcula o desvio padrão populacional dos retornos logarítimos de cada ativo\n",
    "* Para calcular o retorno anulalizado multiplica-se a média dos retornos diários por 252 que representa o ano comercial\n"
   ]
  },
  {
   "cell_type": "code",
   "execution_count": 3,
   "id": "85a960ff",
   "metadata": {},
   "outputs": [
    {
     "data": {
      "text/html": [
       "<div>\n",
       "<style scoped>\n",
       "    .dataframe tbody tr th:only-of-type {\n",
       "        vertical-align: middle;\n",
       "    }\n",
       "\n",
       "    .dataframe tbody tr th {\n",
       "        vertical-align: top;\n",
       "    }\n",
       "\n",
       "    .dataframe thead th {\n",
       "        text-align: right;\n",
       "    }\n",
       "</style>\n",
       "<table border=\"1\" class=\"dataframe\">\n",
       "  <thead>\n",
       "    <tr style=\"text-align: right;\">\n",
       "      <th></th>\n",
       "      <th>PETR3.SA</th>\n",
       "      <th>PETR4.SA</th>\n",
       "      <th>VALE3.SA</th>\n",
       "    </tr>\n",
       "  </thead>\n",
       "  <tbody>\n",
       "    <tr>\n",
       "      <th>PETR3.SA</th>\n",
       "      <td>2.717864</td>\n",
       "      <td>2.124572</td>\n",
       "      <td>-5.390511</td>\n",
       "    </tr>\n",
       "    <tr>\n",
       "      <th>PETR4.SA</th>\n",
       "      <td>2.124572</td>\n",
       "      <td>1.677785</td>\n",
       "      <td>-3.941412</td>\n",
       "    </tr>\n",
       "    <tr>\n",
       "      <th>VALE3.SA</th>\n",
       "      <td>-5.390511</td>\n",
       "      <td>-3.941412</td>\n",
       "      <td>95.133547</td>\n",
       "    </tr>\n",
       "  </tbody>\n",
       "</table>\n",
       "</div>"
      ],
      "text/plain": [
       "          PETR3.SA  PETR4.SA   VALE3.SA\n",
       "PETR3.SA  2.717864  2.124572  -5.390511\n",
       "PETR4.SA  2.124572  1.677785  -3.941412\n",
       "VALE3.SA -5.390511 -3.941412  95.133547"
      ]
     },
     "execution_count": 3,
     "metadata": {},
     "output_type": "execute_result"
    }
   ],
   "source": [
    "covariancia=data.cov()\n",
    "covariancia"
   ]
  }
 ],
 "metadata": {
  "kernelspec": {
   "display_name": "Python 3 (ipykernel)",
   "language": "python",
   "name": "python3"
  },
  "language_info": {
   "codemirror_mode": {
    "name": "ipython",
    "version": 3
   },
   "file_extension": ".py",
   "mimetype": "text/x-python",
   "name": "python",
   "nbconvert_exporter": "python",
   "pygments_lexer": "ipython3",
   "version": "3.10.12"
  }
 },
 "nbformat": 4,
 "nbformat_minor": 5
}
