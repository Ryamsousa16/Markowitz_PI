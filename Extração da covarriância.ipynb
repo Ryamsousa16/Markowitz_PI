{
 "cells": [
  {
   "cell_type": "code",
   "execution_count": 1,
   "id": "147be4ce",
   "metadata": {},
   "outputs": [],
   "source": [
    "import pandas as pd\n",
    "import numpy as np\n",
    "import yfinance as yf"
   ]
  },
  {
   "cell_type": "code",
   "execution_count": 2,
   "id": "c51f80ec",
   "metadata": {},
   "outputs": [
    {
     "name": "stdout",
     "output_type": "stream",
     "text": [
      "[*********************100%%**********************]  3 of 3 completed\n"
     ]
    }
   ],
   "source": [
    "ibovespa_tickers=['PETR3.SA','PETR4.SA','VALE3.SA']\n",
    "inicio= '2021-01-01'\n",
    "fim= '2022-01-01'\n",
    "\n",
    "data = yf.download(ibovespa_tickers, start=inicio, end=fim )['Adj Close']"
   ]
  },
  {
   "cell_type": "markdown",
   "id": "07f6cb45",
   "metadata": {},
   "source": [
    "Na linha a seguir efetua-se o cálculo da covariância entre os ativos conforme a fórmula abaixo:\n",
    "\n",
    "$$ Cov(X, Y) = \\frac{\\sum_{i=1}^n (X_i - \\bar{X})(Y_i - \\bar{Y})}{n}$$\n",
    "\n",
    "* np.log(data) = cálcula o logarítimo dos preços de cada ativo,\n",
    "* .diff()= calcula os retornos logarítimos diários de cada ativo\n",
    "* .std(ddof= 0)= cálcula o desvio padrão populacional dos retornos logarítimos de cada ativo\n",
    "* Para calcular o retorno anulalizado multiplica-se a média dos retornos diários por 252 que representa o ano comercial\n"
   ]
  },
  {
   "cell_type": "code",
   "execution_count": 32,
   "id": "85a960ff",
   "metadata": {},
   "outputs": [
    {
     "data": {
      "text/html": [
       "<div>\n",
       "<style scoped>\n",
       "    .dataframe tbody tr th:only-of-type {\n",
       "        vertical-align: middle;\n",
       "    }\n",
       "\n",
       "    .dataframe tbody tr th {\n",
       "        vertical-align: top;\n",
       "    }\n",
       "\n",
       "    .dataframe thead th {\n",
       "        text-align: right;\n",
       "    }\n",
       "</style>\n",
       "<table border=\"1\" class=\"dataframe\">\n",
       "  <thead>\n",
       "    <tr style=\"text-align: right;\">\n",
       "      <th></th>\n",
       "      <th>PETR3.SA</th>\n",
       "      <th>PETR4.SA</th>\n",
       "      <th>VALE3.SA</th>\n",
       "    </tr>\n",
       "  </thead>\n",
       "  <tbody>\n",
       "    <tr>\n",
       "      <th>PETR3.SA</th>\n",
       "      <td>2.717864</td>\n",
       "      <td>2.124572</td>\n",
       "      <td>-5.390509</td>\n",
       "    </tr>\n",
       "    <tr>\n",
       "      <th>PETR4.SA</th>\n",
       "      <td>2.124572</td>\n",
       "      <td>1.677785</td>\n",
       "      <td>-3.941411</td>\n",
       "    </tr>\n",
       "    <tr>\n",
       "      <th>VALE3.SA</th>\n",
       "      <td>-5.390509</td>\n",
       "      <td>-3.941411</td>\n",
       "      <td>95.133531</td>\n",
       "    </tr>\n",
       "  </tbody>\n",
       "</table>\n",
       "</div>"
      ],
      "text/plain": [
       "          PETR3.SA  PETR4.SA   VALE3.SA\n",
       "PETR3.SA  2.717864  2.124572  -5.390509\n",
       "PETR4.SA  2.124572  1.677785  -3.941411\n",
       "VALE3.SA -5.390509 -3.941411  95.133531"
      ]
     },
     "execution_count": 32,
     "metadata": {},
     "output_type": "execute_result"
    }
   ],
   "source": [
    "covariancia=data.cov()\n",
    "covariancia"
   ]
  },
  {
   "cell_type": "code",
   "execution_count": 29,
   "id": "a228a4c5",
   "metadata": {},
   "outputs": [
    {
     "data": {
      "text/html": [
       "<div>\n",
       "<style scoped>\n",
       "    .dataframe tbody tr th:only-of-type {\n",
       "        vertical-align: middle;\n",
       "    }\n",
       "\n",
       "    .dataframe tbody tr th {\n",
       "        vertical-align: top;\n",
       "    }\n",
       "\n",
       "    .dataframe thead th {\n",
       "        text-align: right;\n",
       "    }\n",
       "</style>\n",
       "<table border=\"1\" class=\"dataframe\">\n",
       "  <thead>\n",
       "    <tr style=\"text-align: right;\">\n",
       "      <th></th>\n",
       "      <th>PETR3.SA</th>\n",
       "      <th>PETR4.SA</th>\n",
       "      <th>VALE3.SA</th>\n",
       "    </tr>\n",
       "    <tr>\n",
       "      <th>Date</th>\n",
       "      <th></th>\n",
       "      <th></th>\n",
       "      <th></th>\n",
       "    </tr>\n",
       "  </thead>\n",
       "  <tbody>\n",
       "    <tr>\n",
       "      <th>2021-01-04</th>\n",
       "      <td>NaN</td>\n",
       "      <td>NaN</td>\n",
       "      <td>NaN</td>\n",
       "    </tr>\n",
       "    <tr>\n",
       "      <th>2021-01-05</th>\n",
       "      <td>0.030052</td>\n",
       "      <td>0.038342</td>\n",
       "      <td>0.016698</td>\n",
       "    </tr>\n",
       "    <tr>\n",
       "      <th>2021-01-06</th>\n",
       "      <td>0.011447</td>\n",
       "      <td>0.001995</td>\n",
       "      <td>0.032269</td>\n",
       "    </tr>\n",
       "    <tr>\n",
       "      <th>2021-01-07</th>\n",
       "      <td>0.028848</td>\n",
       "      <td>0.029462</td>\n",
       "      <td>0.063236</td>\n",
       "    </tr>\n",
       "    <tr>\n",
       "      <th>2021-01-08</th>\n",
       "      <td>-0.001897</td>\n",
       "      <td>0.003863</td>\n",
       "      <td>-0.003132</td>\n",
       "    </tr>\n",
       "    <tr>\n",
       "      <th>...</th>\n",
       "      <td>...</td>\n",
       "      <td>...</td>\n",
       "      <td>...</td>\n",
       "    </tr>\n",
       "    <tr>\n",
       "      <th>2021-12-23</th>\n",
       "      <td>0.007254</td>\n",
       "      <td>0.006019</td>\n",
       "      <td>-0.009681</td>\n",
       "    </tr>\n",
       "    <tr>\n",
       "      <th>2021-12-27</th>\n",
       "      <td>0.019519</td>\n",
       "      <td>0.014716</td>\n",
       "      <td>-0.002530</td>\n",
       "    </tr>\n",
       "    <tr>\n",
       "      <th>2021-12-28</th>\n",
       "      <td>0.000644</td>\n",
       "      <td>0.001043</td>\n",
       "      <td>-0.024360</td>\n",
       "    </tr>\n",
       "    <tr>\n",
       "      <th>2021-12-29</th>\n",
       "      <td>-0.003548</td>\n",
       "      <td>-0.008374</td>\n",
       "      <td>0.002592</td>\n",
       "    </tr>\n",
       "    <tr>\n",
       "      <th>2021-12-30</th>\n",
       "      <td>-0.008110</td>\n",
       "      <td>-0.003159</td>\n",
       "      <td>0.009149</td>\n",
       "    </tr>\n",
       "  </tbody>\n",
       "</table>\n",
       "<p>247 rows × 3 columns</p>\n",
       "</div>"
      ],
      "text/plain": [
       "            PETR3.SA  PETR4.SA  VALE3.SA\n",
       "Date                                    \n",
       "2021-01-04       NaN       NaN       NaN\n",
       "2021-01-05  0.030052  0.038342  0.016698\n",
       "2021-01-06  0.011447  0.001995  0.032269\n",
       "2021-01-07  0.028848  0.029462  0.063236\n",
       "2021-01-08 -0.001897  0.003863 -0.003132\n",
       "...              ...       ...       ...\n",
       "2021-12-23  0.007254  0.006019 -0.009681\n",
       "2021-12-27  0.019519  0.014716 -0.002530\n",
       "2021-12-28  0.000644  0.001043 -0.024360\n",
       "2021-12-29 -0.003548 -0.008374  0.002592\n",
       "2021-12-30 -0.008110 -0.003159  0.009149\n",
       "\n",
       "[247 rows x 3 columns]"
      ]
     },
     "execution_count": 29,
     "metadata": {},
     "output_type": "execute_result"
    }
   ],
   "source": [
    "log_retorno"
   ]
  },
  {
   "cell_type": "code",
   "execution_count": 31,
   "id": "85cced73",
   "metadata": {},
   "outputs": [
    {
     "data": {
      "text/plain": [
       "PETR3.SA    0.028029\n",
       "PETR4.SA    0.028257\n",
       "VALE3.SA    0.022093\n",
       "dtype: float64"
      ]
     },
     "execution_count": 31,
     "metadata": {},
     "output_type": "execute_result"
    }
   ],
   "source": [
    "log_std"
   ]
  }
 ],
 "metadata": {
  "kernelspec": {
   "display_name": "Python 3 (ipykernel)",
   "language": "python",
   "name": "python3"
  },
  "language_info": {
   "codemirror_mode": {
    "name": "ipython",
    "version": 3
   },
   "file_extension": ".py",
   "mimetype": "text/x-python",
   "name": "python",
   "nbconvert_exporter": "python",
   "pygments_lexer": "ipython3",
   "version": "3.10.12"
  }
 },
 "nbformat": 4,
 "nbformat_minor": 5
}
