{
 "cells": [
  {
   "cell_type": "code",
   "execution_count": 1,
   "id": "147be4ce",
   "metadata": {},
   "outputs": [],
   "source": [
    "import pandas as pd\n",
    "import numpy as np\n",
    "import yfinance as yf"
   ]
  },
  {
   "cell_type": "code",
   "execution_count": 2,
   "id": "c51f80ec",
   "metadata": {},
   "outputs": [
    {
     "name": "stdout",
     "output_type": "stream",
     "text": [
      "[*********************100%%**********************]  3 of 3 completed\n"
     ]
    }
   ],
   "source": [
    "ibovespa_tickers=['PETR3.SA','PETR4.SA','VALE3.SA']\n",
    "inicio= '2021-01-01'\n",
    "fim= '2022-01-01'\n",
    "\n",
    "data = yf.download(ibovespa_tickers, start=inicio, end=fim )['Adj Close']"
   ]
  },
  {
   "cell_type": "markdown",
   "id": "07f6cb45",
   "metadata": {},
   "source": [
    "Na linha a seguir efetua-se o cálculo do risco logarítimo conforme a fórmula abaixo:\n",
    "\n",
    "$$ln\\frac{P_i\\}{P_{i-1}}= ln{P_i}- ln{P_{i-1}}\\$$  \n",
    "\n",
    "* np.log(data) = cálcula o logarítimo dos valores de cada linha,\n",
    "* .diff()= Para o calculo dos retornos diários efetua-se a divisão de $\\frac{P_i\\}{P_{i-1}}\\$\n",
    "* Para calcular o retorno anulalizado multiplica-se a média dos retornos diários por 252 que representa o ano comercial\n"
   ]
  },
  {
   "cell_type": "code",
   "execution_count": 15,
   "id": "85a960ff",
   "metadata": {},
   "outputs": [],
   "source": [
    "log_retorno=np.log(data).diff()\n",
    "log_var_anualizado=log_retorno.var()*25200\n"
   ]
  },
  {
   "cell_type": "code",
   "execution_count": 16,
   "id": "85cced73",
   "metadata": {},
   "outputs": [
    {
     "data": {
      "text/plain": [
       "PETR3.SA    19.878038\n",
       "PETR4.SA    20.203595\n",
       "VALE3.SA    12.350038\n",
       "dtype: float64"
      ]
     },
     "execution_count": 16,
     "metadata": {},
     "output_type": "execute_result"
    }
   ],
   "source": [
    "log_var_anualizado"
   ]
  }
 ],
 "metadata": {
  "kernelspec": {
   "display_name": "Python 3 (ipykernel)",
   "language": "python",
   "name": "python3"
  },
  "language_info": {
   "codemirror_mode": {
    "name": "ipython",
    "version": 3
   },
   "file_extension": ".py",
   "mimetype": "text/x-python",
   "name": "python",
   "nbconvert_exporter": "python",
   "pygments_lexer": "ipython3",
   "version": "3.10.12"
  }
 },
 "nbformat": 4,
 "nbformat_minor": 5
}
